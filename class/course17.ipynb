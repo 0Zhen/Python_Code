{
 "cells": [
  {
   "cell_type": "code",
   "execution_count": 1,
   "metadata": {},
   "outputs": [],
   "source": [
    "from finlab.data import Data\n",
    "data = Data()"
   ]
  },
  {
   "cell_type": "markdown",
   "metadata": {},
   "source": [
    "# 條件一：公司的市值"
   ]
  },
  {
   "cell_type": "code",
   "execution_count": 2,
   "metadata": {},
   "outputs": [],
   "source": [
    "# 先拿出計算市值需要用到的財務數據\n",
    "\n",
    "股本 = data.get('股本合計', 1)\n",
    "price = data.get('收盤價', 100)"
   ]
  },
  {
   "cell_type": "code",
   "execution_count": 3,
   "metadata": {},
   "outputs": [
    {
     "data": {
      "text/plain": [
       "nan"
      ]
     },
     "execution_count": 3,
     "metadata": {},
     "output_type": "execute_result"
    }
   ],
   "source": [
    "\n",
    "# ----------- #\n",
    "# 找出當天股價  #\n",
    "# ----------- #\n",
    "\n",
    "# 新版（較簡單）：將頻率為「天」的股價，reindex 成每「季」\n",
    "# method='fill'是說，假如公佈財報那天沒有股價，則以時間往前最接近的那天為主。\n",
    "\n",
    "當天股價 = price.reindex(股本.index, method='ffill').iloc[-1]\n",
    "\n",
    "# 原本（較難）：當天股價 = price.loc[:股本.index[0]].iloc[-1]\n",
    "\n",
    "# ----------- #\n",
    "# 找出當天股本  #\n",
    "# ----------- #\n",
    "\n",
    "當天股本 = 股本.iloc[-1]\n",
    "\n",
    "# -----------  #\n",
    "# 計算市值      #\n",
    "# -----------  #\n",
    "\n",
    "# 市值 = 總股數 * 股價\n",
    "#     = （股本 * 1000） / 10 * 股價\n",
    "\n",
    "市值 = 當天股本 * 1000 / 10 * 當天股價\n",
    "市值['1101']"
   ]
  },
  {
   "cell_type": "markdown",
   "metadata": {},
   "source": [
    "# 條件二：自由現金流"
   ]
  },
  {
   "cell_type": "code",
   "execution_count": 4,
   "metadata": {},
   "outputs": [
    {
     "data": {
      "text/plain": [
       "count    2.329000e+03\n",
       "mean     7.106791e+05\n",
       "std      1.023337e+07\n",
       "min     -9.085321e+07\n",
       "25%     -1.319100e+04\n",
       "50%      0.000000e+00\n",
       "75%      2.866110e+05\n",
       "max      3.830828e+08\n",
       "dtype: float64"
      ]
     },
     "execution_count": 4,
     "metadata": {},
     "output_type": "execute_result"
    }
   ],
   "source": [
    "import pandas as pd\n",
    "\n",
    "# 將每季累計的財務數據，轉換成單季\n",
    "def toSeasonal(df):\n",
    "    season4 = df[df.index.month == 3]\n",
    "    season1 = df[df.index.month == 5]\n",
    "    season2 = df[df.index.month == 8]\n",
    "    season3 = df[df.index.month == 11]\n",
    "\n",
    "    season1.index = season1.index.year\n",
    "    season2.index = season2.index.year\n",
    "    season3.index = season3.index.year\n",
    "    season4.index = season4.index.year - 1\n",
    "\n",
    "    newseason1 = season1\n",
    "    newseason2 = season2 - season1.reindex_like(season2)\n",
    "    newseason3 = season3 - season2.reindex_like(season3)\n",
    "    newseason4 = season4 - season3.reindex_like(season4)\n",
    "\n",
    "    newseason1.index = pd.to_datetime(newseason1.index.astype(str) + '-05-15')\n",
    "    newseason2.index = pd.to_datetime(newseason2.index.astype(str) + '-08-14')\n",
    "    newseason3.index = pd.to_datetime(newseason3.index.astype(str) + '-11-14')\n",
    "    newseason4.index = pd.to_datetime((newseason4.index + 1).astype(str) + '-03-31')\n",
    "\n",
    "    return newseason1.append(newseason2).append(newseason3).append(newseason4).sort_index()\n",
    "    \n",
    "# 計算自由現金流 = 營業活動之淨現金流入 - 投資活動之淨現金流出\n",
    "投資現金流 = toSeasonal(data.get('投資活動之淨現金流入（流出）', 8))\n",
    "營業現金流 = toSeasonal(data.get('營業活動之淨現金流入（流出）', 8))\n",
    "自由現金流 = (投資現金流 + 營業現金流).iloc[-4:].sum()\n",
    "自由現金流.describe()"
   ]
  },
  {
   "cell_type": "markdown",
   "metadata": {},
   "source": [
    "# 條件三：股東權益報酬率"
   ]
  },
  {
   "cell_type": "code",
   "execution_count": 5,
   "metadata": {},
   "outputs": [
    {
     "data": {
      "text/plain": [
       "count    1733.000000\n",
       "mean        0.009191\n",
       "std         0.313741\n",
       "min       -12.518453\n",
       "25%         0.002540\n",
       "50%         0.022836\n",
       "75%         0.041961\n",
       "max         0.456444\n",
       "Name: 2020-11-14 00:00:00, dtype: float64"
      ]
     },
     "execution_count": 5,
     "metadata": {},
     "output_type": "execute_result"
    }
   ],
   "source": [
    "稅後淨利 = data.get('本期淨利（淨損）', 1)\n",
    "\n",
    "# 修正：因為有些股東權益的名稱叫作「權益總計」有些叫作「權益總額」，所以要先將這兩個dataframe合併起來喔！\n",
    "權益總計 = data.get('權益總計', 1)\n",
    "權益總額 = data.get('權益總額', 1)\n",
    "\n",
    "# 把它們合併起來（將「權益總計」為NaN的部分填上「權益總額」）\n",
    "權益總計.fillna(權益總額, inplace=True)\n",
    "\n",
    "股東權益報酬率 = 稅後淨利.iloc[-1] / 權益總計.iloc[-1]\n",
    "股東權益報酬率.describe()"
   ]
  },
  {
   "cell_type": "markdown",
   "metadata": {},
   "source": [
    "# 條件四：營業利益成長率"
   ]
  },
  {
   "cell_type": "code",
   "execution_count": 6,
   "metadata": {},
   "outputs": [
    {
     "data": {
      "text/plain": [
       "count      1680.000000\n",
       "mean       -162.995071\n",
       "std       12693.052986\n",
       "min     -507600.000000\n",
       "25%         -57.625233\n",
       "50%           1.520993\n",
       "75%          60.334512\n",
       "max       80232.500000\n",
       "dtype: float64"
      ]
     },
     "execution_count": 6,
     "metadata": {},
     "output_type": "execute_result"
    }
   ],
   "source": [
    "# 影片中打錯了，這裡才是對的喔！\n",
    "營業利益 = data.get('營業利益（損失）', 5)\n",
    "營業利益成長率 = (營業利益.iloc[-1] / 營業利益.iloc[-5] - 1) * 100\n",
    "營業利益成長率.describe()"
   ]
  },
  {
   "cell_type": "markdown",
   "metadata": {},
   "source": [
    "# 條件五：市值營收比"
   ]
  },
  {
   "cell_type": "code",
   "execution_count": 7,
   "metadata": {},
   "outputs": [
    {
     "data": {
      "text/plain": [
       "count    0.0\n",
       "mean     NaN\n",
       "std      NaN\n",
       "min      NaN\n",
       "25%      NaN\n",
       "50%      NaN\n",
       "75%      NaN\n",
       "max      NaN\n",
       "dtype: float64"
      ]
     },
     "execution_count": 7,
     "metadata": {},
     "output_type": "execute_result"
    }
   ],
   "source": [
    "%matplotlib inline\n",
    "當月營收 = data.get('當月營收', 4) * 1000\n",
    "當季營收 = 當月營收.iloc[-4:].sum() # 取近4個月營收總和，當作一季的月營收（4也可以改變）\n",
    "市值營收比 = 市值 / 當季營收\n",
    "市值營收比.describe()"
   ]
  },
  {
   "cell_type": "markdown",
   "metadata": {},
   "source": [
    "# 結合上述五個條件選股"
   ]
  },
  {
   "cell_type": "code",
   "execution_count": 8,
   "metadata": {},
   "outputs": [
    {
     "data": {
      "text/plain": [
       "Series([], dtype: bool)"
      ]
     },
     "execution_count": 8,
     "metadata": {},
     "output_type": "execute_result"
    }
   ],
   "source": [
    "condition1 = (市值 < 10000000000)\n",
    "condition2 = 自由現金流 > 0\n",
    "condition3 = 股東權益報酬率 > 0\n",
    "condition4 = 營業利益成長率 > 0\n",
    "condition5 = 市值營收比 < 5\n",
    "\n",
    "# 將條件做交集（&）\n",
    "select_stock = condition1 & condition2 & condition3 & condition4 & condition5 \n",
    "\n",
    "# 選出的股票\n",
    "select_stock[select_stock]"
   ]
  },
  {
   "cell_type": "markdown",
   "metadata": {},
   "source": [
    "# 綜合上述，優等生策略：mystrategy"
   ]
  },
  {
   "cell_type": "code",
   "execution_count": 10,
   "metadata": {},
   "outputs": [],
   "source": [
    "import pandas as pd\n",
    "\n",
    "def mystrategy(data):\n",
    "    \n",
    "    股本 = data.get('股本合計', 1)\n",
    "    price = data.get('收盤價', 120)\n",
    "    當天股價 = price[:股本.index[-1]].iloc[-1]\n",
    "    當天股本 = 股本.iloc[-1]\n",
    "    市值 = 當天股本 * 當天股價 / 10 * 1000\n",
    "   \n",
    "\n",
    "    df1 = toSeasonal(data.get('投資活動之淨現金流入（流出）', 5))\n",
    "    df2 = toSeasonal(data.get('營業活動之淨現金流入（流出）', 5))\n",
    "    自由現金流 = (df1 + df2).iloc[-4:].mean()\n",
    "    \n",
    "    \n",
    "    稅後淨利 = data.get('本期淨利（淨損）', 1)\n",
    "    \n",
    "    # 股東權益，有兩個名稱，有些公司叫做權益總計，有些叫做權益總額\n",
    "    # 所以得把它們抓出來\n",
    "    權益總計 = data.get('權益總計', 1)\n",
    "    權益總額 = data.get('權益總額', 1)\n",
    "    \n",
    "    # 並且把它們合併起來\n",
    "    權益總計.fillna(權益總額, inplace=True)\n",
    "        \n",
    "    股東權益報酬率 = 稅後淨利.iloc[-1] / 權益總計.iloc[-1]\n",
    "    \n",
    "    \n",
    "    營業利益 = data.get('營業利益（損失）', 5)\n",
    "    營業利益成長率 = (營業利益.iloc[-1] / 營業利益.iloc[-5] - 1) * 100\n",
    "    \n",
    "    \n",
    "    當月營收 = data.get('當月營收', 4) * 1000\n",
    "    當季營收 = 當月營收.iloc[-4:].sum()\n",
    "    市值營收比 = 市值 / 當季營收\n",
    "    \n",
    "    \n",
    "    condition1 = (市值 < 1e10)\n",
    "    condition2 = 自由現金流 > 0\n",
    "    condition3 = 股東權益報酬率 > 0\n",
    "    condition4 = 營業利益成長率 > 0\n",
    "    condition5 = 市值營收比 < 5\n",
    "    \n",
    "    select_stock = condition1 & condition2 & condition3 & condition4 & condition5\n",
    "    \n",
    "    return select_stock[select_stock]\n"
   ]
  },
  {
   "cell_type": "markdown",
   "metadata": {},
   "source": [
    "# 回測"
   ]
  },
  {
   "cell_type": "code",
   "execution_count": 11,
   "metadata": {},
   "outputs": [
    {
     "name": "stdout",
     "output_type": "stream",
     "text": [
      "2017-01-01 - 2017-03-02 報酬率: 7.40 % nstock 127\n",
      "2017-03-02 - 2017-05-01 報酬率: 2.09 % nstock 126\n",
      "2017-05-01 - 2017-06-30 報酬率: 2.46 % nstock 102\n",
      "2017-06-30 - 2017-08-29 報酬率: 4.69 % nstock 83\n",
      "2017-08-29 - 2017-10-28 報酬率: 5.49 % nstock 82\n",
      "2017-10-28 - 2017-12-27 報酬率: 3.12 % nstock 82\n",
      "2017-12-27 - 2018-02-25 報酬率: 1.56 % nstock 88\n",
      "2018-02-25 - 2018-04-26 報酬率: 1.38 % nstock 86\n",
      "每次換手最大報酬 : 7.40 ％\n",
      "每次換手最少報酬 : 1.38 ％\n"
     ]
    },
    {
     "data": {
      "image/png": "[encoded data removed]",
      "text/plain": [
       "<Figure size 432x288 with 1 Axes>"
      ]
     },
     "metadata": {
      "needs_background": "light"
     },
     "output_type": "display_data"
    },
    {
     "data": {
      "image/png": "[encoded data removed]",
      "text/plain": [
       "<Figure size 432x288 with 1 Axes>"
      ]
     },
     "metadata": {
      "needs_background": "light"
     },
     "output_type": "display_data"
    },
    {
     "data": {
      "text/plain": [
       "(2017-01-04    1.000000\n",
       " 2017-01-05    1.006241\n",
       " 2017-01-06    1.009988\n",
       " 2017-01-09    1.004098\n",
       " 2017-01-10    1.002802\n",
       "                 ...   \n",
       " 2018-03-05    1.297182\n",
       " 2018-03-06    1.307829\n",
       " 2018-03-07    1.305008\n",
       " 2018-03-08    1.315819\n",
       " 2018-03-09    1.317281\n",
       " Length: 283, dtype: float64,\n",
       "           buy_price  sell_price  lowest_price  highest_price   buy_date  \\\n",
       " stock_id                                                                  \n",
       " 1203          22.90       23.90         22.85          24.35 2017-01-04   \n",
       " 1218          15.05       15.10         14.90          15.65 2017-01-04   \n",
       " 1231          32.00       31.85         31.65          32.55 2017-01-04   \n",
       " 1310          19.90       22.10         19.40          24.15 2017-01-04   \n",
       " 1323          34.10       34.05         32.60          34.35 2017-01-04   \n",
       " ...             ...         ...           ...            ...        ...   \n",
       " 8467          32.00       31.50         31.50          32.40 2018-02-27   \n",
       " 9911          37.75       37.35         37.00          37.75 2018-02-27   \n",
       " 9919          12.30       12.00         12.00          12.45 2018-02-27   \n",
       " 9927          39.80       39.50         39.50          40.00 2018-02-27   \n",
       " 9934          19.50       20.25         19.40          20.25 2018-02-27   \n",
       " \n",
       "           sell_date  profit(%)  \n",
       " stock_id                        \n",
       " 1203     2017-03-02   4.366812  \n",
       " 1218     2017-03-02   0.332226  \n",
       " 1231     2017-03-02  -0.468750  \n",
       " 1310     2017-03-02  11.055276  \n",
       " 1323     2017-03-02  -0.146628  \n",
       " ...             ...        ...  \n",
       " 8467     2018-03-09  -1.562500  \n",
       " 9911     2018-03-09  -1.059603  \n",
       " 9919     2018-03-09  -2.439024  \n",
       " 9927     2018-03-09  -0.753769  \n",
       " 9934     2018-03-09   3.846154  \n",
       " \n",
       " [775 rows x 7 columns])"
      ]
     },
     "execution_count": 11,
     "metadata": {},
     "output_type": "execute_result"
    },
    {
     "data": {
      "image/png": "[encoded data removed]",
      "text/plain": [
       "<Figure size 432x288 with 1 Axes>"
      ]
     },
     "metadata": {
      "needs_background": "light"
     },
     "output_type": "display_data"
    }
   ],
   "source": [
    "from finlab.backtest import backtest\n",
    "from finlab.data import Data\n",
    "import datetime\n",
    "\n",
    "%matplotlib inline\n",
    "data = Data()\n",
    "backtest(datetime.date(2017,1,1), datetime.date(2018,3,10), 60, mystrategy, data)"
   ]
  },
  {
   "cell_type": "code",
   "execution_count": null,
   "metadata": {},
   "outputs": [],
   "source": []
  }
 ],
 "metadata": {
  "kernelspec": {
   "display_name": "Python 3",
   "language": "python",
   "name": "python3"
  },
  "language_info": {
   "codemirror_mode": {
    "name": "ipython",
    "version": 3
   },
   "file_extension": ".py",
   "mimetype": "text/x-python",
   "name": "python",
   "nbconvert_exporter": "python",
   "pygments_lexer": "ipython3",
   "version": "3.6.10"
  },
  "latex_envs": {
   "LaTeX_envs_menu_present": true,
   "autoclose": false,
   "autocomplete": true,
   "bibliofile": "biblio.bib",
   "cite_by": "apalike",
   "current_citInitial": 1,
   "eqLabelWithNumbers": true,
   "eqNumInitial": 1,
   "hotkeys": {
    "equation": "Ctrl-E",
    "itemize": "Ctrl-I"
   },
   "labels_anchors": false,
   "latex_user_defs": false,
   "report_style_numbering": false,
   "user_envs_cfg": false
  },
  "varInspector": {
   "cols": {
    "lenName": 16,
    "lenType": 16,
    "lenVar": 40
   },
   "kernels_config": {
    "python": {
     "delete_cmd_postfix": "",
     "delete_cmd_prefix": "del ",
     "library": "var_list.py",
     "varRefreshCmd": "print(var_dic_list())"
    },
    "r": {
     "delete_cmd_postfix": ") ",
     "delete_cmd_prefix": "rm(",
     "library": "var_list.r",
     "varRefreshCmd": "cat(var_dic_list()) "
    }
   },
   "types_to_exclude": [
    "module",
    "function",
    "builtin_function_or_method",
    "instance",
    "_Feature"
   ],
   "window_display": false
  }
 },
 "nbformat": 4,
 "nbformat_minor": 2
}
