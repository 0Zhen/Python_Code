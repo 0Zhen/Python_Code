{
 "cells": [
  {
   "cell_type": "code",
   "execution_count": 1,
   "metadata": {},
   "outputs": [
    {
     "ename": "ModuleNotFoundError",
     "evalue": "No module named 'finlab'",
     "output_type": "error",
     "traceback": [
      "\u001b[1;31m---------------------------------------------------------------------------\u001b[0m",
      "\u001b[1;31mModuleNotFoundError\u001b[0m                       Traceback (most recent call last)",
      "\u001b[1;32m<ipython-input-1-b9efffdedad6>\u001b[0m in \u001b[0;36m<module>\u001b[1;34m\u001b[0m\n\u001b[1;32m----> 1\u001b[1;33m from finlab.crawler import (\n\u001b[0m\u001b[0;32m      2\u001b[0m     \u001b[0mwidget\u001b[0m\u001b[1;33m,\u001b[0m\u001b[1;33m\u001b[0m\u001b[1;33m\u001b[0m\u001b[0m\n\u001b[0;32m      3\u001b[0m \u001b[1;33m\u001b[0m\u001b[0m\n\u001b[0;32m      4\u001b[0m     \u001b[0mcrawl_price\u001b[0m\u001b[1;33m,\u001b[0m\u001b[1;33m\u001b[0m\u001b[1;33m\u001b[0m\u001b[0m\n\u001b[0;32m      5\u001b[0m     \u001b[0mcrawl_monthly_report\u001b[0m\u001b[1;33m,\u001b[0m\u001b[1;33m\u001b[0m\u001b[1;33m\u001b[0m\u001b[0m\n",
      "\u001b[1;31mModuleNotFoundError\u001b[0m: No module named 'finlab'"
     ]
    }
   ],
   "source": [
    "from finlab.crawler import (\n",
    "    widget, \n",
    "    \n",
    "    crawl_price, \n",
    "    crawl_monthly_report, \n",
    "    crawl_finance_statement_by_date,\n",
    "    \n",
    "    date_range, month_range, season_range\n",
    ")\n",
    "\n",
    "import sqlite3\n",
    "import os\n",
    "conn = sqlite3.connect(os.path.join('data', \"data.db\"))\n",
    "\n",
    "widget(conn, 'price', crawl_price, date_range)\n",
    "widget(conn, 'monthly_revenue', crawl_monthly_report, month_range)\n",
    "widget(conn, 'finance_statement', crawl_finance_statement_by_date, season_range)"
   ]
  },
  {
   "cell_type": "markdown",
   "metadata": {},
   "source": [
    "# 時間區間範例："
   ]
  },
  {
   "cell_type": "code",
   "execution_count": 14,
   "metadata": {},
   "outputs": [
    {
     "name": "stdout",
     "output_type": "stream",
     "text": [
      "2010年抓取財報的時間點是\n"
     ]
    },
    {
     "data": {
      "text/plain": [
       "[datetime.date(2010, 3, 31),\n",
       " datetime.date(2010, 5, 15),\n",
       " datetime.date(2010, 8, 14),\n",
       " datetime.date(2010, 11, 14)]"
      ]
     },
     "execution_count": 14,
     "metadata": {},
     "output_type": "execute_result"
    }
   ],
   "source": [
    "print('2010年抓取財報的時間點是')\n",
    "season_range(datetime.date(2010,1,1), datetime.date(2011,1,1))"
   ]
  },
  {
   "cell_type": "markdown",
   "metadata": {},
   "source": [
    "# 每季財報 時間區間補充：\n",
    "\n",
    "關於每季財報爬取，選取的時間範圍要「包含」以下時段，就能夠爬到截止日期的財報囉！例如：\n",
    "\n",
    "* 2010年3月31號 --> 2009 第四季\n",
    "* 2010年5月15號 --> 2010 第一季\n",
    "* 2010年8月14號 --> 2010 第二季\n",
    "* 2010年11月14號 --> 2010 第三季\n",
    "\n",
    "所以假如我們想要抓2018年的第一季，就可以輸入一個時間範圍，例如：\n",
    "\n",
    "* 2018年5月01號 到 2018年5月31號\n",
    "\n",
    "因為這段時間有包含 2018年5月15號，所以就會下載 2018年第一季的財報喔！"
   ]
  },
  {
   "cell_type": "markdown",
   "metadata": {},
   "source": [
    "# 程式化更新資料"
   ]
  },
  {
   "cell_type": "code",
   "execution_count": 2,
   "metadata": {
    "collapsed": true
   },
   "outputs": [],
   "source": [
    "import datetime\n",
    "from finlab.crawler import update_table\n",
    "#update_table(conn, 'price', crawl_price, [datetime.date(2018,3,26)])\n",
    "#update_table(conn, 'monthly_revenue', crawl_monthly_report, [datetime.date(2018,3,1)])\n",
    "#update_table(conn, 'finance_statement', crawl_finance_statement_by_date, [datetime.date(2018,3,31)])"
   ]
  }
 ],
 "metadata": {
  "kernelspec": {
   "display_name": "Python 3",
   "language": "python",
   "name": "python3"
  },
  "language_info": {
   "codemirror_mode": {
    "name": "ipython",
    "version": 3
   },
   "file_extension": ".py",
   "mimetype": "text/x-python",
   "name": "python",
   "nbconvert_exporter": "python",
   "pygments_lexer": "ipython3",
   "version": "3.6.10"
  },
  "latex_envs": {
   "LaTeX_envs_menu_present": true,
   "autoclose": false,
   "autocomplete": true,
   "bibliofile": "biblio.bib",
   "cite_by": "apalike",
   "current_citInitial": 1,
   "eqLabelWithNumbers": true,
   "eqNumInitial": 1,
   "hotkeys": {
    "equation": "Ctrl-E",
    "itemize": "Ctrl-I"
   },
   "labels_anchors": false,
   "latex_user_defs": false,
   "report_style_numbering": false,
   "user_envs_cfg": false
  },
  "varInspector": {
   "cols": {
    "lenName": 16,
    "lenType": 16,
    "lenVar": 40
   },
   "kernels_config": {
    "python": {
     "delete_cmd_postfix": "",
     "delete_cmd_prefix": "del ",
     "library": "var_list.py",
     "varRefreshCmd": "print(var_dic_list())"
    },
    "r": {
     "delete_cmd_postfix": ") ",
     "delete_cmd_prefix": "rm(",
     "library": "var_list.r",
     "varRefreshCmd": "cat(var_dic_list()) "
    }
   },
   "types_to_exclude": [
    "module",
    "function",
    "builtin_function_or_method",
    "instance",
    "_Feature"
   ],
   "window_display": false
  }
 },
 "nbformat": 4,
 "nbformat_minor": 2
}
